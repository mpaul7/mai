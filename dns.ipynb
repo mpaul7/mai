{
 "cells": [
  {
   "cell_type": "code",
   "execution_count": 4,
   "id": "2ccdcaa5-5da0-4dbd-82a5-f54ed8611fdc",
   "metadata": {},
   "outputs": [],
   "source": [
    "import pandas as pd "
   ]
  },
  {
   "cell_type": "code",
   "execution_count": 5,
   "id": "36d2672b-d2b8-47e7-90f3-b076dabfc586",
   "metadata": {},
   "outputs": [],
   "source": [
    "col = ['sip', 'sport', 'dip', 'dport', 'proto', 'first_timestamp', 'total_time', 'sni', 'pkt_fwd_count', 'pl_fwd_count',\n",
    "      'last_timestamp_fwd', 'pl_len_fwd_mean', 'pl_len_fwd_stdev', \n",
    "       'pl_len_fwd_total', 'pl_len_fwd_min', 'pl_len_fwd_max',\n",
    "       'pkt_len_fwd_mean', 'pkt_len_fwd_stdev', 'pkt_len_fwd_total',\n",
    "       'pkt_len_fwd_min', 'pkt_len_fwd_max', 'iat_fwd_mean', 'iat_fwd_stdev',\n",
    "       'iat_fwd_total', 'iat_fwd_min', 'iat_fwd_max', 'pkt_bwd_count',\n",
    "       'pl_bwd_count', 'last_timestamp_bwd', 'pl_len_bwd_mean',\n",
    "       'pl_len_bwd_stdev', 'pl_len_bwd_total', 'pl_len_bwd_min',\n",
    "       'pl_len_bwd_max', 'pkt_len_bwd_mean', 'pkt_len_bwd_stdev',\n",
    "       'pkt_len_bwd_total', 'pkt_len_bwd_min', 'pkt_len_bwd_max',\n",
    "       'iat_bwd_mean', 'iat_bwd_stdev', 'iat_bwd_total', 'iat_bwd_min',\n",
    "       'iat_bwd_max', 'dd', 'dn', 'dns', 'ds', 'application' ]"
   ]
  },
  {
   "cell_type": "code",
   "execution_count": 9,
   "id": "215b10e4-7dce-42a6-9a84-3da992c02e2d",
   "metadata": {},
   "outputs": [],
   "source": [
    "# df = pd.read_csv('/home/mpaul/projects/mpaul/mai/data/dns/twc_output/videoStream_amazonPrimeVideo_20231212_Solana2023a_1min_37.csv', usecols=col)\n",
    "df = pd.read_csv('data/dns/2023a_Wireline_Ethernet_dns.csv', usecols=col)\n",
    "\n",
    "df = df[(df['sport'] == 53) | (df['dport'] == 53)]"
   ]
  },
  {
   "cell_type": "code",
   "execution_count": 18,
   "id": "42de0672-fecd-41e6-9d42-62f2c26c6f8e",
   "metadata": {},
   "outputs": [
    {
     "name": "stdout",
     "output_type": "stream",
     "text": [
      "                    first_timestamp           time_difference  \\\n",
      "13872 1970-01-20 11:42:13.345780637           0 days 00:00:00   \n",
      "13874 1970-01-20 11:42:13.378546717 0 days 00:00:00.032766080   \n",
      "13875 1970-01-20 11:42:13.378546984 0 days 00:00:00.032766347   \n",
      "13876 1970-01-20 11:42:13.378698972 0 days 00:00:00.032918335   \n",
      "13877 1970-01-20 11:42:13.378699213 0 days 00:00:00.032918576   \n",
      "...                             ...                       ...   \n",
      "3463  1970-01-20 17:38:10.618020767 0 days 05:55:57.272240130   \n",
      "9214  1970-01-20 17:38:11.179948822 0 days 05:55:57.834168185   \n",
      "18394 1970-01-20 17:38:11.218025056 0 days 05:55:57.872244419   \n",
      "5689  1970-01-20 17:38:11.236329873 0 days 05:55:57.890549236   \n",
      "5690  1970-01-20 17:38:11.236329985 0 days 05:55:57.890549348   \n",
      "\n",
      "       time_difference_seconds  \n",
      "13872                 0.000000  \n",
      "13874                 0.032766  \n",
      "13875                 0.032766  \n",
      "13876                 0.032918  \n",
      "13877                 0.032919  \n",
      "...                        ...  \n",
      "3463              21357.272240  \n",
      "9214              21357.834168  \n",
      "18394             21357.872244  \n",
      "5689              21357.890549  \n",
      "5690              21357.890549  \n",
      "\n",
      "[20086 rows x 3 columns]\n"
     ]
    }
   ],
   "source": [
    "df['first_timestamp'] = pd.to_datetime(df['first_timestamp'])\n",
    "# df_sorted = df.sort_values(by='first_timestamp', ascending=True)\n",
    "df = df.sort_values(by='first_timestamp', ascending=True)\n",
    "# df['bucket'] = df['first_timestamp'].diff().dt.total_seconds()*1000\n",
    "df['time_difference'] = df['first_timestamp'] - df['first_timestamp'].iloc[0]\n",
    "\n",
    "# Optionally, convert the time difference to a more readable format (like total seconds)\n",
    "df['time_difference_seconds'] = df['time_difference'].dt.total_seconds()\n",
    "# df['exact_ts'] = pd.to_datetime(df['first_timestamp'], unit='s')\n",
    "# df['first_timestamp'] = pd.to_datetime(df['first_timestamp'])\n",
    "print(df[['first_timestamp', 'time_difference', 'time_difference_seconds']])\n",
    "\n",
    "# df"
   ]
  },
  {
   "cell_type": "code",
   "execution_count": 61,
   "id": "d015da77-6ef0-4106-8d83-a9c0328499ae",
   "metadata": {},
   "outputs": [],
   "source": [
    "df_sorted = df.sort_values(by='first_timestamp', ascending=True)\n",
    "df['first_timestamp'] = pd.to_datetime(df['first_timestamp'])\n",
    "df = df.sort_values(by='first_timestamp', ascending=True)\n",
    "df['bucket'] = df['first_timestamp'].diff().dt.total_seconds()*1000\n",
    "# df['bucket'] = ((df['first_timestamp'] - df['first_timestamp'].min()).dt.total_seconds() // 1)\n",
    "# df['bucket'] = ((df['first_timestamp'] - df['first_timestamp'])"
   ]
  },
  {
   "cell_type": "code",
   "execution_count": 63,
   "id": "2a9198d7-4933-4f42-b7bc-e41d708e4773",
   "metadata": {},
   "outputs": [
    {
     "data": {
      "text/html": [
       "<div>\n",
       "<style scoped>\n",
       "    .dataframe tbody tr th:only-of-type {\n",
       "        vertical-align: middle;\n",
       "    }\n",
       "\n",
       "    .dataframe tbody tr th {\n",
       "        vertical-align: top;\n",
       "    }\n",
       "\n",
       "    .dataframe thead th {\n",
       "        text-align: right;\n",
       "    }\n",
       "</style>\n",
       "<table border=\"1\" class=\"dataframe\">\n",
       "  <thead>\n",
       "    <tr style=\"text-align: right;\">\n",
       "      <th></th>\n",
       "      <th>first_timestamp</th>\n",
       "      <th>bucket</th>\n",
       "    </tr>\n",
       "  </thead>\n",
       "  <tbody>\n",
       "    <tr>\n",
       "      <th>47</th>\n",
       "      <td>1970-01-20 16:53:24.138752584</td>\n",
       "      <td>NaN</td>\n",
       "    </tr>\n",
       "    <tr>\n",
       "      <th>79</th>\n",
       "      <td>1970-01-20 16:53:24.138752836</td>\n",
       "      <td>0.000252</td>\n",
       "    </tr>\n",
       "    <tr>\n",
       "      <th>50</th>\n",
       "      <td>1970-01-20 16:53:24.138753051</td>\n",
       "      <td>0.000215</td>\n",
       "    </tr>\n",
       "    <tr>\n",
       "      <th>54</th>\n",
       "      <td>1970-01-20 16:53:24.138753126</td>\n",
       "      <td>0.000075</td>\n",
       "    </tr>\n",
       "    <tr>\n",
       "      <th>56</th>\n",
       "      <td>1970-01-20 16:53:24.138753239</td>\n",
       "      <td>0.000113</td>\n",
       "    </tr>\n",
       "    <tr>\n",
       "      <th>35</th>\n",
       "      <td>1970-01-20 16:53:24.138753298</td>\n",
       "      <td>0.000059</td>\n",
       "    </tr>\n",
       "    <tr>\n",
       "      <th>61</th>\n",
       "      <td>1970-01-20 16:53:24.138753354</td>\n",
       "      <td>0.000056</td>\n",
       "    </tr>\n",
       "    <tr>\n",
       "      <th>29</th>\n",
       "      <td>1970-01-20 16:53:24.138753692</td>\n",
       "      <td>0.000338</td>\n",
       "    </tr>\n",
       "    <tr>\n",
       "      <th>28</th>\n",
       "      <td>1970-01-20 16:53:24.138753777</td>\n",
       "      <td>0.000085</td>\n",
       "    </tr>\n",
       "    <tr>\n",
       "      <th>45</th>\n",
       "      <td>1970-01-20 16:53:24.138807026</td>\n",
       "      <td>0.053249</td>\n",
       "    </tr>\n",
       "    <tr>\n",
       "      <th>0</th>\n",
       "      <td>1970-01-20 16:53:24.177900239</td>\n",
       "      <td>39.093213</td>\n",
       "    </tr>\n",
       "  </tbody>\n",
       "</table>\n",
       "</div>"
      ],
      "text/plain": [
       "                 first_timestamp     bucket\n",
       "47 1970-01-20 16:53:24.138752584        NaN\n",
       "79 1970-01-20 16:53:24.138752836   0.000252\n",
       "50 1970-01-20 16:53:24.138753051   0.000215\n",
       "54 1970-01-20 16:53:24.138753126   0.000075\n",
       "56 1970-01-20 16:53:24.138753239   0.000113\n",
       "35 1970-01-20 16:53:24.138753298   0.000059\n",
       "61 1970-01-20 16:53:24.138753354   0.000056\n",
       "29 1970-01-20 16:53:24.138753692   0.000338\n",
       "28 1970-01-20 16:53:24.138753777   0.000085\n",
       "45 1970-01-20 16:53:24.138807026   0.053249\n",
       "0  1970-01-20 16:53:24.177900239  39.093213"
      ]
     },
     "execution_count": 63,
     "metadata": {},
     "output_type": "execute_result"
    }
   ],
   "source": [
    "df[['first_timestamp', 'bucket']]"
   ]
  },
  {
   "cell_type": "code",
   "execution_count": null,
   "id": "93c44370-7dd9-4d8b-bcd3-e6497c667680",
   "metadata": {},
   "outputs": [],
   "source": []
  },
  {
   "cell_type": "code",
   "execution_count": null,
   "id": "49be3f95-2b71-4ca7-99bd-7d6cec9c2e8b",
   "metadata": {},
   "outputs": [],
   "source": [
    "def get_time_slices(start_time, end_time, delta=60):\n",
    "    list_time_slice = []\n",
    "    tmp_time = start_time\n",
    "    if delta > 0:\n",
    "        while(tmp_time <= end_time): \n",
    "            list_time_slice.append({'start_time':tmp_time,'end_time':tmp_time + timedelta(minutes = delta)})\n",
    "            tmp_time = tmp_time + timedelta(minutes = delta)\n",
    "    else:\n",
    "        list_time_slice.append({'start_time':start_time,'end_time':end_time})\n",
    "    return list_time_slice\n",
    "\n",
    "device_data = labelled_flow_data[((labelled_flow_data['src_device_name'] == device) | \n",
    "                                              (labelled_flow_data['dst_device_name'] == device))  & \n",
    "                                             (labelled_flow_data['flow_start_time'] > window['start_time']) & \n",
    "                                             (labelled_flow_data['flow_start_time'] <= window['end_time'])]\n",
    "    "
   ]
  }
 ],
 "metadata": {
  "kernelspec": {
   "display_name": "Python 3 (ipykernel)",
   "language": "python",
   "name": "python3"
  },
  "language_info": {
   "codemirror_mode": {
    "name": "ipython",
    "version": 3
   },
   "file_extension": ".py",
   "mimetype": "text/x-python",
   "name": "python",
   "nbconvert_exporter": "python",
   "pygments_lexer": "ipython3",
   "version": "3.8.10"
  }
 },
 "nbformat": 4,
 "nbformat_minor": 5
}

{
 "cells": [
  {
   "cell_type": "code",
   "execution_count": 20,
   "id": "8d791518-5644-48c7-a95e-5243e70d5f78",
   "metadata": {},
   "outputs": [],
   "source": [
    "import pandas as pd\n"
   ]
  },
  {
   "cell_type": "code",
   "execution_count": 24,
   "id": "83ad6530-8fc8-4761-b37d-f4843b75607d",
   "metadata": {},
   "outputs": [],
   "source": [
    "df =  pd.read_csv('/home/mpaul/projects/mpaul/mai/data/pcap_00002375_July24-25_20241113164247.csv')"
   ]
  },
  {
   "cell_type": "code",
   "execution_count": 25,
   "id": "abbffceb-425e-4e9a-80dc-6affaa5bb41b",
   "metadata": {},
   "outputs": [],
   "source": [
    "df = df[(df['sport'] == 53) | (df['dport'] == 53)]\n",
    "df['label'] = 'dns'"
   ]
  },
  {
   "cell_type": "code",
   "execution_count": 26,
   "id": "edaf9fd8-0739-4796-8100-748c3391b4e5",
   "metadata": {},
   "outputs": [],
   "source": [
    "df.to_csv('/home/mpaul/projects/mpaul/mai/data/dns/final_data/cubro_dns_pcap_00002375_July24-25_20241113164247.csv')"
   ]
  },
  {
   "cell_type": "code",
   "execution_count": null,
   "id": "084826ce-c0de-4040-b057-ce4df08c2f99",
   "metadata": {},
   "outputs": [],
   "source": [
    "pd.read_csv('/home/mpaul/projects/mpaul/mai/data/dns/final_data/"
   ]
  }
 ],
 "metadata": {
  "kernelspec": {
   "display_name": "Python 3 (ipykernel)",
   "language": "python",
   "name": "python3"
  },
  "language_info": {
   "codemirror_mode": {
    "name": "ipython",
    "version": 3
   },
   "file_extension": ".py",
   "mimetype": "text/x-python",
   "name": "python",
   "nbconvert_exporter": "python",
   "pygments_lexer": "ipython3",
   "version": "3.8.10"
  }
 },
 "nbformat": 4,
 "nbformat_minor": 5
}

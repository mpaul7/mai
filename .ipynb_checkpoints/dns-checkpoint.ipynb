{
 "cells": [
  {
   "cell_type": "code",
   "execution_count": 4,
   "id": "2ccdcaa5-5da0-4dbd-82a5-f54ed8611fdc",
   "metadata": {},
   "outputs": [],
   "source": [
    "import pandas as pd "
   ]
  },
  {
   "cell_type": "code",
   "execution_count": 5,
   "id": "36d2672b-d2b8-47e7-90f3-b076dabfc586",
   "metadata": {},
   "outputs": [],
   "source": [
    "col = ['sip', 'sport', 'dip', 'dport', 'proto', 'first_timestamp', 'total_time', 'sni', 'pkt_fwd_count', 'pl_fwd_count',\n",
    "      'last_timestamp_fwd', 'pl_len_fwd_mean', 'pl_len_fwd_stdev', \n",
    "       'pl_len_fwd_total', 'pl_len_fwd_min', 'pl_len_fwd_max',\n",
    "       'pkt_len_fwd_mean', 'pkt_len_fwd_stdev', 'pkt_len_fwd_total',\n",
    "       'pkt_len_fwd_min', 'pkt_len_fwd_max', 'iat_fwd_mean', 'iat_fwd_stdev',\n",
    "       'iat_fwd_total', 'iat_fwd_min', 'iat_fwd_max', 'pkt_bwd_count',\n",
    "       'pl_bwd_count', 'last_timestamp_bwd', 'pl_len_bwd_mean',\n",
    "       'pl_len_bwd_stdev', 'pl_len_bwd_total', 'pl_len_bwd_min',\n",
    "       'pl_len_bwd_max', 'pkt_len_bwd_mean', 'pkt_len_bwd_stdev',\n",
    "       'pkt_len_bwd_total', 'pkt_len_bwd_min', 'pkt_len_bwd_max',\n",
    "       'iat_bwd_mean', 'iat_bwd_stdev', 'iat_bwd_total', 'iat_bwd_min',\n",
    "       'iat_bwd_max', 'dd', 'dn', 'dns', 'ds', 'application' ]"
   ]
  },
  {
   "cell_type": "code",
   "execution_count": 6,
   "id": "215b10e4-7dce-42a6-9a84-3da992c02e2d",
   "metadata": {},
   "outputs": [],
   "source": [
    "# df = pd.read_csv('/home/mpaul/projects/mpaul/mai/data/dns/twc_output/videoStream_amazonPrimeVideo_20231212_Solana2023a_1min_37.csv', usecols=col)\n",
    "df = pd.read_csv('data/dns/2023a_Wireline_Ethernet_dns.csv', usecols=col)\n",
    "\n",
    "df = df[(df['sport'] == 53) | (df['dport'] == 53)]"
   ]
  },
  {
   "cell_type": "code",
   "execution_count": 7,
   "id": "42de0672-fecd-41e6-9d42-62f2c26c6f8e",
   "metadata": {},
   "outputs": [
    {
     "ename": "OutOfBoundsDatetime",
     "evalue": "cannot convert input with unit 's'",
     "output_type": "error",
     "traceback": [
      "\u001b[0;31m---------------------------------------------------------------------------\u001b[0m",
      "\u001b[0;31mOutOfBoundsDatetime\u001b[0m                       Traceback (most recent call last)",
      "Cell \u001b[0;32mIn[7], line 1\u001b[0m\n\u001b[0;32m----> 1\u001b[0m df[\u001b[38;5;124m'\u001b[39m\u001b[38;5;124mexact_ts\u001b[39m\u001b[38;5;124m'\u001b[39m] \u001b[38;5;241m=\u001b[39m \u001b[43mpd\u001b[49m\u001b[38;5;241;43m.\u001b[39;49m\u001b[43mto_datetime\u001b[49m\u001b[43m(\u001b[49m\u001b[43mdf\u001b[49m\u001b[43m[\u001b[49m\u001b[38;5;124;43m'\u001b[39;49m\u001b[38;5;124;43mfirst_timestamp\u001b[39;49m\u001b[38;5;124;43m'\u001b[39;49m\u001b[43m]\u001b[49m\u001b[43m,\u001b[49m\u001b[43m \u001b[49m\u001b[43munit\u001b[49m\u001b[38;5;241;43m=\u001b[39;49m\u001b[38;5;124;43m'\u001b[39;49m\u001b[38;5;124;43ms\u001b[39;49m\u001b[38;5;124;43m'\u001b[39;49m\u001b[43m)\u001b[49m\n\u001b[1;32m      2\u001b[0m df[\u001b[38;5;124m'\u001b[39m\u001b[38;5;124mfirst_timestamp\u001b[39m\u001b[38;5;124m'\u001b[39m] \u001b[38;5;241m=\u001b[39m pd\u001b[38;5;241m.\u001b[39mto_datetime(df[\u001b[38;5;124m'\u001b[39m\u001b[38;5;124mfirst_timestamp\u001b[39m\u001b[38;5;124m'\u001b[39m])\n\u001b[1;32m      3\u001b[0m df[[\u001b[38;5;124m'\u001b[39m\u001b[38;5;124mfirst_timestamp\u001b[39m\u001b[38;5;124m'\u001b[39m, \u001b[38;5;124m'\u001b[39m\u001b[38;5;124mexact_ts\u001b[39m\u001b[38;5;124m'\u001b[39m]]\n",
      "File \u001b[0;32m~/.local/lib/python3.8/site-packages/pandas/core/tools/datetimes.py:1051\u001b[0m, in \u001b[0;36mto_datetime\u001b[0;34m(arg, errors, dayfirst, yearfirst, utc, format, exact, unit, infer_datetime_format, origin, cache)\u001b[0m\n\u001b[1;32m   1049\u001b[0m         result \u001b[38;5;241m=\u001b[39m arg\u001b[38;5;241m.\u001b[39mmap(cache_array)\n\u001b[1;32m   1050\u001b[0m     \u001b[38;5;28;01melse\u001b[39;00m:\n\u001b[0;32m-> 1051\u001b[0m         values \u001b[38;5;241m=\u001b[39m \u001b[43mconvert_listlike\u001b[49m\u001b[43m(\u001b[49m\u001b[43marg\u001b[49m\u001b[38;5;241;43m.\u001b[39;49m\u001b[43m_values\u001b[49m\u001b[43m,\u001b[49m\u001b[43m \u001b[49m\u001b[38;5;28;43mformat\u001b[39;49m\u001b[43m)\u001b[49m\n\u001b[1;32m   1052\u001b[0m         result \u001b[38;5;241m=\u001b[39m arg\u001b[38;5;241m.\u001b[39m_constructor(values, index\u001b[38;5;241m=\u001b[39marg\u001b[38;5;241m.\u001b[39mindex, name\u001b[38;5;241m=\u001b[39marg\u001b[38;5;241m.\u001b[39mname)\n\u001b[1;32m   1053\u001b[0m \u001b[38;5;28;01melif\u001b[39;00m \u001b[38;5;28misinstance\u001b[39m(arg, (ABCDataFrame, abc\u001b[38;5;241m.\u001b[39mMutableMapping)):\n",
      "File \u001b[0;32m~/.local/lib/python3.8/site-packages/pandas/core/tools/datetimes.py:357\u001b[0m, in \u001b[0;36m_convert_listlike_datetimes\u001b[0;34m(arg, format, name, tz, unit, errors, infer_datetime_format, dayfirst, yearfirst, exact)\u001b[0m\n\u001b[1;32m    355\u001b[0m     \u001b[38;5;28;01mif\u001b[39;00m \u001b[38;5;28mformat\u001b[39m \u001b[38;5;129;01mis\u001b[39;00m \u001b[38;5;129;01mnot\u001b[39;00m \u001b[38;5;28;01mNone\u001b[39;00m:\n\u001b[1;32m    356\u001b[0m         \u001b[38;5;28;01mraise\u001b[39;00m \u001b[38;5;167;01mValueError\u001b[39;00m(\u001b[38;5;124m\"\u001b[39m\u001b[38;5;124mcannot specify both format and unit\u001b[39m\u001b[38;5;124m\"\u001b[39m)\n\u001b[0;32m--> 357\u001b[0m     \u001b[38;5;28;01mreturn\u001b[39;00m \u001b[43m_to_datetime_with_unit\u001b[49m\u001b[43m(\u001b[49m\u001b[43marg\u001b[49m\u001b[43m,\u001b[49m\u001b[43m \u001b[49m\u001b[43munit\u001b[49m\u001b[43m,\u001b[49m\u001b[43m \u001b[49m\u001b[43mname\u001b[49m\u001b[43m,\u001b[49m\u001b[43m \u001b[49m\u001b[43mtz\u001b[49m\u001b[43m,\u001b[49m\u001b[43m \u001b[49m\u001b[43merrors\u001b[49m\u001b[43m)\u001b[49m\n\u001b[1;32m    358\u001b[0m \u001b[38;5;28;01melif\u001b[39;00m \u001b[38;5;28mgetattr\u001b[39m(arg, \u001b[38;5;124m\"\u001b[39m\u001b[38;5;124mndim\u001b[39m\u001b[38;5;124m\"\u001b[39m, \u001b[38;5;241m1\u001b[39m) \u001b[38;5;241m>\u001b[39m \u001b[38;5;241m1\u001b[39m:\n\u001b[1;32m    359\u001b[0m     \u001b[38;5;28;01mraise\u001b[39;00m \u001b[38;5;167;01mTypeError\u001b[39;00m(\n\u001b[1;32m    360\u001b[0m         \u001b[38;5;124m\"\u001b[39m\u001b[38;5;124marg must be a string, datetime, list, tuple, 1-d array, or Series\u001b[39m\u001b[38;5;124m\"\u001b[39m\n\u001b[1;32m    361\u001b[0m     )\n",
      "File \u001b[0;32m~/.local/lib/python3.8/site-packages/pandas/core/tools/datetimes.py:530\u001b[0m, in \u001b[0;36m_to_datetime_with_unit\u001b[0;34m(arg, unit, name, tz, errors)\u001b[0m\n\u001b[1;32m    528\u001b[0m \u001b[38;5;28;01melse\u001b[39;00m:\n\u001b[1;32m    529\u001b[0m     arg \u001b[38;5;241m=\u001b[39m np\u001b[38;5;241m.\u001b[39masarray(arg)\n\u001b[0;32m--> 530\u001b[0m     arr, tz_parsed \u001b[38;5;241m=\u001b[39m \u001b[43mtslib\u001b[49m\u001b[38;5;241;43m.\u001b[39;49m\u001b[43marray_with_unit_to_datetime\u001b[49m\u001b[43m(\u001b[49m\u001b[43marg\u001b[49m\u001b[43m,\u001b[49m\u001b[43m \u001b[49m\u001b[43munit\u001b[49m\u001b[43m,\u001b[49m\u001b[43m \u001b[49m\u001b[43merrors\u001b[49m\u001b[38;5;241;43m=\u001b[39;49m\u001b[43merrors\u001b[49m\u001b[43m)\u001b[49m\n\u001b[1;32m    532\u001b[0m \u001b[38;5;28;01mif\u001b[39;00m errors \u001b[38;5;241m==\u001b[39m \u001b[38;5;124m\"\u001b[39m\u001b[38;5;124mignore\u001b[39m\u001b[38;5;124m\"\u001b[39m:\n\u001b[1;32m    533\u001b[0m     \u001b[38;5;66;03m# Index constructor _may_ infer to DatetimeIndex\u001b[39;00m\n\u001b[1;32m    534\u001b[0m     result \u001b[38;5;241m=\u001b[39m Index\u001b[38;5;241m.\u001b[39m_with_infer(arr, name\u001b[38;5;241m=\u001b[39mname)\n",
      "File \u001b[0;32m~/.local/lib/python3.8/site-packages/pandas/_libs/tslib.pyx:266\u001b[0m, in \u001b[0;36mpandas._libs.tslib.array_with_unit_to_datetime\u001b[0;34m()\u001b[0m\n",
      "\u001b[0;31mOutOfBoundsDatetime\u001b[0m: cannot convert input with unit 's'"
     ]
    }
   ],
   "source": [
    "df['first_timestamp'] = pd.to_datetime(df['first_timestamp'])\n",
    "df_sorted = df.sort_values(by='first_timestamp', ascending=True)\n",
    "# df = df.sort_values(by='first_timestamp', ascending=True)\n",
    "# df['bucket'] = df['first_timestamp'].diff().dt.total_seconds()*1000\n",
    "# df['exact_ts'] = pd.to_datetime(df['first_timestamp'], unit='s')\n",
    "# df['first_timestamp'] = pd.to_datetime(df['first_timestamp'])\n",
    "# df[['first_timestamp', 'exact_ts']]"
   ]
  },
  {
   "cell_type": "code",
   "execution_count": 61,
   "id": "d015da77-6ef0-4106-8d83-a9c0328499ae",
   "metadata": {},
   "outputs": [],
   "source": [
    "df_sorted = df.sort_values(by='first_timestamp', ascending=True)\n",
    "df['first_timestamp'] = pd.to_datetime(df['first_timestamp'])\n",
    "df = df.sort_values(by='first_timestamp', ascending=True)\n",
    "df['bucket'] = df['first_timestamp'].diff().dt.total_seconds()*1000\n",
    "# df['bucket'] = ((df['first_timestamp'] - df['first_timestamp'].min()).dt.total_seconds() // 1)\n",
    "# df['bucket'] = ((df['first_timestamp'] - df['first_timestamp'])"
   ]
  },
  {
   "cell_type": "code",
   "execution_count": 63,
   "id": "2a9198d7-4933-4f42-b7bc-e41d708e4773",
   "metadata": {},
   "outputs": [
    {
     "data": {
      "text/html": [
       "<div>\n",
       "<style scoped>\n",
       "    .dataframe tbody tr th:only-of-type {\n",
       "        vertical-align: middle;\n",
       "    }\n",
       "\n",
       "    .dataframe tbody tr th {\n",
       "        vertical-align: top;\n",
       "    }\n",
       "\n",
       "    .dataframe thead th {\n",
       "        text-align: right;\n",
       "    }\n",
       "</style>\n",
       "<table border=\"1\" class=\"dataframe\">\n",
       "  <thead>\n",
       "    <tr style=\"text-align: right;\">\n",
       "      <th></th>\n",
       "      <th>first_timestamp</th>\n",
       "      <th>bucket</th>\n",
       "    </tr>\n",
       "  </thead>\n",
       "  <tbody>\n",
       "    <tr>\n",
       "      <th>47</th>\n",
       "      <td>1970-01-20 16:53:24.138752584</td>\n",
       "      <td>NaN</td>\n",
       "    </tr>\n",
       "    <tr>\n",
       "      <th>79</th>\n",
       "      <td>1970-01-20 16:53:24.138752836</td>\n",
       "      <td>0.000252</td>\n",
       "    </tr>\n",
       "    <tr>\n",
       "      <th>50</th>\n",
       "      <td>1970-01-20 16:53:24.138753051</td>\n",
       "      <td>0.000215</td>\n",
       "    </tr>\n",
       "    <tr>\n",
       "      <th>54</th>\n",
       "      <td>1970-01-20 16:53:24.138753126</td>\n",
       "      <td>0.000075</td>\n",
       "    </tr>\n",
       "    <tr>\n",
       "      <th>56</th>\n",
       "      <td>1970-01-20 16:53:24.138753239</td>\n",
       "      <td>0.000113</td>\n",
       "    </tr>\n",
       "    <tr>\n",
       "      <th>35</th>\n",
       "      <td>1970-01-20 16:53:24.138753298</td>\n",
       "      <td>0.000059</td>\n",
       "    </tr>\n",
       "    <tr>\n",
       "      <th>61</th>\n",
       "      <td>1970-01-20 16:53:24.138753354</td>\n",
       "      <td>0.000056</td>\n",
       "    </tr>\n",
       "    <tr>\n",
       "      <th>29</th>\n",
       "      <td>1970-01-20 16:53:24.138753692</td>\n",
       "      <td>0.000338</td>\n",
       "    </tr>\n",
       "    <tr>\n",
       "      <th>28</th>\n",
       "      <td>1970-01-20 16:53:24.138753777</td>\n",
       "      <td>0.000085</td>\n",
       "    </tr>\n",
       "    <tr>\n",
       "      <th>45</th>\n",
       "      <td>1970-01-20 16:53:24.138807026</td>\n",
       "      <td>0.053249</td>\n",
       "    </tr>\n",
       "    <tr>\n",
       "      <th>0</th>\n",
       "      <td>1970-01-20 16:53:24.177900239</td>\n",
       "      <td>39.093213</td>\n",
       "    </tr>\n",
       "  </tbody>\n",
       "</table>\n",
       "</div>"
      ],
      "text/plain": [
       "                 first_timestamp     bucket\n",
       "47 1970-01-20 16:53:24.138752584        NaN\n",
       "79 1970-01-20 16:53:24.138752836   0.000252\n",
       "50 1970-01-20 16:53:24.138753051   0.000215\n",
       "54 1970-01-20 16:53:24.138753126   0.000075\n",
       "56 1970-01-20 16:53:24.138753239   0.000113\n",
       "35 1970-01-20 16:53:24.138753298   0.000059\n",
       "61 1970-01-20 16:53:24.138753354   0.000056\n",
       "29 1970-01-20 16:53:24.138753692   0.000338\n",
       "28 1970-01-20 16:53:24.138753777   0.000085\n",
       "45 1970-01-20 16:53:24.138807026   0.053249\n",
       "0  1970-01-20 16:53:24.177900239  39.093213"
      ]
     },
     "execution_count": 63,
     "metadata": {},
     "output_type": "execute_result"
    }
   ],
   "source": [
    "df[['first_timestamp', 'bucket']]"
   ]
  },
  {
   "cell_type": "code",
   "execution_count": null,
   "id": "49be3f95-2b71-4ca7-99bd-7d6cec9c2e8b",
   "metadata": {},
   "outputs": [],
   "source": [
    "def get_time_slices(start_time, end_time, delta=60):\n",
    "    list_time_slice = []\n",
    "    tmp_time = start_time\n",
    "    if delta > 0:\n",
    "        while(tmp_time <= end_time): \n",
    "            list_time_slice.append({'start_time':tmp_time,'end_time':tmp_time + timedelta(minutes = delta)})\n",
    "            tmp_time = tmp_time + timedelta(minutes = delta)\n",
    "    else:\n",
    "        list_time_slice.append({'start_time':start_time,'end_time':end_time})\n",
    "    return list_time_slice\n",
    "\n",
    "device_data = labelled_flow_data[((labelled_flow_data['src_device_name'] == device) | \n",
    "                                              (labelled_flow_data['dst_device_name'] == device))  & \n",
    "                                             (labelled_flow_data['flow_start_time'] > window['start_time']) & \n",
    "                                             (labelled_flow_data['flow_start_time'] <= window['end_time'])]\n",
    "    "
   ]
  }
 ],
 "metadata": {
  "kernelspec": {
   "display_name": "Python 3 (ipykernel)",
   "language": "python",
   "name": "python3"
  },
  "language_info": {
   "codemirror_mode": {
    "name": "ipython",
    "version": 3
   },
   "file_extension": ".py",
   "mimetype": "text/x-python",
   "name": "python",
   "nbconvert_exporter": "python",
   "pygments_lexer": "ipython3",
   "version": "3.8.10"
  }
 },
 "nbformat": 4,
 "nbformat_minor": 5
}
